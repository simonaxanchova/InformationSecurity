{
  "nbformat": 4,
  "nbformat_minor": 0,
  "metadata": {
    "colab": {
      "name": "AESCipher.ipynb",
      "provenance": [],
      "collapsed_sections": []
    },
    "kernelspec": {
      "name": "python3",
      "display_name": "Python 3"
    }
  },
  "cells": [
    {
      "cell_type": "markdown",
      "metadata": {
        "id": "t7A9nPdJnfyz"
      },
      "source": [
        "**AES Implementation in Python**"
      ]
    },
    {
      "cell_type": "code",
      "metadata": {
        "id": "QuouTC8bnkMD",
        "colab": {
          "base_uri": "https://localhost:8080/"
        },
        "outputId": "079f8dbc-86db-4c89-e728-ef7c67fc5c8b"
      },
      "source": [
        "pip install pycrypto"
      ],
      "execution_count": null,
      "outputs": [
        {
          "output_type": "stream",
          "text": [
            "Collecting pycrypto\n",
            "\u001b[?25l  Downloading https://files.pythonhosted.org/packages/60/db/645aa9af249f059cc3a368b118de33889219e0362141e75d4eaf6f80f163/pycrypto-2.6.1.tar.gz (446kB)\n",
            "\r\u001b[K     |▊                               | 10kB 13.0MB/s eta 0:00:01\r\u001b[K     |█▌                              | 20kB 18.6MB/s eta 0:00:01\r\u001b[K     |██▏                             | 30kB 11.3MB/s eta 0:00:01\r\u001b[K     |███                             | 40kB 8.7MB/s eta 0:00:01\r\u001b[K     |███▊                            | 51kB 5.2MB/s eta 0:00:01\r\u001b[K     |████▍                           | 61kB 5.3MB/s eta 0:00:01\r\u001b[K     |█████▏                          | 71kB 5.7MB/s eta 0:00:01\r\u001b[K     |█████▉                          | 81kB 6.2MB/s eta 0:00:01\r\u001b[K     |██████▋                         | 92kB 6.6MB/s eta 0:00:01\r\u001b[K     |███████▍                        | 102kB 6.8MB/s eta 0:00:01\r\u001b[K     |████████                        | 112kB 6.8MB/s eta 0:00:01\r\u001b[K     |████████▉                       | 122kB 6.8MB/s eta 0:00:01\r\u001b[K     |█████████▌                      | 133kB 6.8MB/s eta 0:00:01\r\u001b[K     |██████████▎                     | 143kB 6.8MB/s eta 0:00:01\r\u001b[K     |███████████                     | 153kB 6.8MB/s eta 0:00:01\r\u001b[K     |███████████▊                    | 163kB 6.8MB/s eta 0:00:01\r\u001b[K     |████████████▌                   | 174kB 6.8MB/s eta 0:00:01\r\u001b[K     |█████████████▏                  | 184kB 6.8MB/s eta 0:00:01\r\u001b[K     |██████████████                  | 194kB 6.8MB/s eta 0:00:01\r\u001b[K     |██████████████▊                 | 204kB 6.8MB/s eta 0:00:01\r\u001b[K     |███████████████▍                | 215kB 6.8MB/s eta 0:00:01\r\u001b[K     |████████████████▏               | 225kB 6.8MB/s eta 0:00:01\r\u001b[K     |█████████████████               | 235kB 6.8MB/s eta 0:00:01\r\u001b[K     |█████████████████▋              | 245kB 6.8MB/s eta 0:00:01\r\u001b[K     |██████████████████▍             | 256kB 6.8MB/s eta 0:00:01\r\u001b[K     |███████████████████             | 266kB 6.8MB/s eta 0:00:01\r\u001b[K     |███████████████████▉            | 276kB 6.8MB/s eta 0:00:01\r\u001b[K     |████████████████████▋           | 286kB 6.8MB/s eta 0:00:01\r\u001b[K     |█████████████████████▎          | 296kB 6.8MB/s eta 0:00:01\r\u001b[K     |██████████████████████          | 307kB 6.8MB/s eta 0:00:01\r\u001b[K     |██████████████████████▊         | 317kB 6.8MB/s eta 0:00:01\r\u001b[K     |███████████████████████▌        | 327kB 6.8MB/s eta 0:00:01\r\u001b[K     |████████████████████████▎       | 337kB 6.8MB/s eta 0:00:01\r\u001b[K     |█████████████████████████       | 348kB 6.8MB/s eta 0:00:01\r\u001b[K     |█████████████████████████▊      | 358kB 6.8MB/s eta 0:00:01\r\u001b[K     |██████████████████████████▍     | 368kB 6.8MB/s eta 0:00:01\r\u001b[K     |███████████████████████████▏    | 378kB 6.8MB/s eta 0:00:01\r\u001b[K     |████████████████████████████    | 389kB 6.8MB/s eta 0:00:01\r\u001b[K     |████████████████████████████▋   | 399kB 6.8MB/s eta 0:00:01\r\u001b[K     |█████████████████████████████▍  | 409kB 6.8MB/s eta 0:00:01\r\u001b[K     |██████████████████████████████  | 419kB 6.8MB/s eta 0:00:01\r\u001b[K     |██████████████████████████████▉ | 430kB 6.8MB/s eta 0:00:01\r\u001b[K     |███████████████████████████████▋| 440kB 6.8MB/s eta 0:00:01\r\u001b[K     |████████████████████████████████| 450kB 6.8MB/s \n",
            "\u001b[?25hBuilding wheels for collected packages: pycrypto\n",
            "  Building wheel for pycrypto (setup.py) ... \u001b[?25l\u001b[?25hdone\n",
            "  Created wheel for pycrypto: filename=pycrypto-2.6.1-cp36-cp36m-linux_x86_64.whl size=499939 sha256=eba200251d44d78f56daac83ecae5d1153e338ae9cf1792e79350bf97c4bff24\n",
            "  Stored in directory: /root/.cache/pip/wheels/27/02/5e/77a69d0c16bb63c6ed32f5386f33a2809c94bd5414a2f6c196\n",
            "Successfully built pycrypto\n",
            "Installing collected packages: pycrypto\n",
            "Successfully installed pycrypto-2.6.1\n"
          ],
          "name": "stdout"
        }
      ]
    },
    {
      "cell_type": "code",
      "metadata": {
        "id": "J-Qt99Mioqhn",
        "colab": {
          "base_uri": "https://localhost:8080/"
        },
        "outputId": "12da95db-631d-4b72-9080-8f4253ce54ab"
      },
      "source": [
        "pip install pybase64"
      ],
      "execution_count": null,
      "outputs": [
        {
          "output_type": "stream",
          "text": [
            "Collecting pybase64\n",
            "\u001b[?25l  Downloading https://files.pythonhosted.org/packages/fe/f9/2012104c6cca8c82b42a192f706e5a0c10b01b109aa80c9e18bacb427f34/pybase64-1.0.2-cp36-cp36m-manylinux2010_x86_64.whl (167kB)\n",
            "\r\u001b[K     |██                              | 10kB 14.6MB/s eta 0:00:01\r\u001b[K     |████                            | 20kB 20.5MB/s eta 0:00:01\r\u001b[K     |█████▉                          | 30kB 14.3MB/s eta 0:00:01\r\u001b[K     |███████▉                        | 40kB 10.5MB/s eta 0:00:01\r\u001b[K     |█████████▉                      | 51kB 5.3MB/s eta 0:00:01\r\u001b[K     |███████████▊                    | 61kB 5.8MB/s eta 0:00:01\r\u001b[K     |█████████████▊                  | 71kB 6.2MB/s eta 0:00:01\r\u001b[K     |███████████████▊                | 81kB 6.7MB/s eta 0:00:01\r\u001b[K     |█████████████████▋              | 92kB 6.8MB/s eta 0:00:01\r\u001b[K     |███████████████████▋            | 102kB 7.3MB/s eta 0:00:01\r\u001b[K     |█████████████████████▋          | 112kB 7.3MB/s eta 0:00:01\r\u001b[K     |███████████████████████▌        | 122kB 7.3MB/s eta 0:00:01\r\u001b[K     |█████████████████████████▌      | 133kB 7.3MB/s eta 0:00:01\r\u001b[K     |███████████████████████████▌    | 143kB 7.3MB/s eta 0:00:01\r\u001b[K     |█████████████████████████████▍  | 153kB 7.3MB/s eta 0:00:01\r\u001b[K     |███████████████████████████████▍| 163kB 7.3MB/s eta 0:00:01\r\u001b[K     |████████████████████████████████| 174kB 7.3MB/s \n",
            "\u001b[?25hInstalling collected packages: pybase64\n",
            "Successfully installed pybase64-1.0.2\n"
          ],
          "name": "stdout"
        }
      ]
    },
    {
      "cell_type": "code",
      "metadata": {
        "id": "RLDcSh75pKpK"
      },
      "source": [
        "import hashlib\n",
        "from Crypto import Random\n",
        "from Crypto.Cipher import AES\n",
        "from base64 import b64encode, b64decode"
      ],
      "execution_count": null,
      "outputs": []
    },
    {
      "cell_type": "code",
      "metadata": {
        "id": "y_ViceBVpU8j"
      },
      "source": [
        "class AESCipher(object):\n",
        "  def __init__(self, key):\n",
        "    self.block_size = AES.block_size\n",
        "    self.key = hashlib.sha256(key.encode()).digest()"
      ],
      "execution_count": null,
      "outputs": []
    },
    {
      "cell_type": "code",
      "metadata": {
        "id": "2PvYS4dNp9n0"
      },
      "source": [
        "def __pad(self, plain_text):\n",
        "  number_of_bytes_to_pad = self.block_size - len(plain_text) % self.block_size\n",
        "  ascii_string = chr(number_of_bytes_to_pad)\n",
        "  padding_str = number_of_bytes_to_pad * ascii_string\n",
        "  padded_plain_text = plain_text + padding_str\n",
        "  return padded_plain_text"
      ],
      "execution_count": null,
      "outputs": []
    },
    {
      "cell_type": "code",
      "metadata": {
        "id": "C2OrOrW4qVSK"
      },
      "source": [
        "@staticmethod\n",
        "def __unpad(plain_text):\n",
        "  last_character = plain_text[len(plain_text) - 1:]\n",
        "  bytes_to_remove = ord(last_character)\n",
        "  return plain_text[:-bytes_to_remove]"
      ],
      "execution_count": null,
      "outputs": []
    },
    {
      "cell_type": "code",
      "metadata": {
        "id": "hLZTrQnnqjmW"
      },
      "source": [
        "def encrypt(self, plain_text):\n",
        "  plain_text = self.__pad(plain_text)\n",
        "  iv = Random.new().read(self.block_size)\n",
        "  cipher = AES.new(self.key, AES.MODE_ECB, iv)\n",
        "  encrypted_text = cipher.encrypt(plain_text.encode())\n",
        "  return b64encode(iv + encrypted_text).decode(\"utf-8\")"
      ],
      "execution_count": null,
      "outputs": []
    },
    {
      "cell_type": "code",
      "metadata": {
        "id": "dxHG7OPsq_iy"
      },
      "source": [
        "def decrypt(self, encrypted_text):\n",
        "  encrypted_text = b64decode(encrypted_text)\n",
        "  iv = encrypted_text[:self.block_size]\n",
        "  cipher = AES.new(self.key, AES.MODE_ECB, iv)\n",
        "  plain_text = cipher.decrypt(encrypted_text[self.block_size:]).decode(\"utf-8\")\n",
        "  return self.__unpad(plain_text)"
      ],
      "execution_count": null,
      "outputs": []
    }
  ]
}